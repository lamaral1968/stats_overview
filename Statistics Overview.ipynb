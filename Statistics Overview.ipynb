{
 "cells": [
  {
   "cell_type": "code",
   "execution_count": 2,
   "metadata": {
    "collapsed": true
   },
   "outputs": [],
   "source": [
    "%matplotlib inline"
   ]
  },
  {
   "cell_type": "code",
   "execution_count": 1,
   "metadata": {
    "collapsed": true
   },
   "outputs": [],
   "source": [
    "from copy import copy\n",
    "import json\n",
    "import math\n",
    "import matplotlib.pyplot as plt\n",
    "import numpy as np\n",
    "from random import choice, sample, shuffle\n",
    "import scipy.stats as stat"
   ]
  },
  {
   "cell_type": "code",
   "execution_count": 3,
   "metadata": {
    "collapsed": true
   },
   "outputs": [],
   "source": [
    "def half_frame(sub, xaxis_label, yaxis_label, font_size = 15, padding = -0.02):\n",
    "    \"\"\"Formats frame, axes, and ticks for matplotlib made graphic with half frame.\"\"\"\n",
    "\n",
    "    # Format graph frame and tick marks\n",
    "    sub.yaxis.set_ticks_position('left')\n",
    "    sub.xaxis.set_ticks_position('bottom')\n",
    "    sub.tick_params(axis = 'both', which = 'major', length = 7, width = 2, direction = 'out', pad = 10,\n",
    "                    labelsize = font_size)\n",
    "    sub.tick_params(axis = 'both', which = 'minor', length = 5, width = 2, direction = 'out', labelsize = 10)\n",
    "    for axis in ['bottom','left']:\n",
    "        sub.spines[axis].set_linewidth(2)\n",
    "        sub.spines[axis].set_position((\"axes\", padding))\n",
    "    for axis in ['top','right']:\n",
    "        sub.spines[axis].set_visible(False)\n",
    "\n",
    "    # Format axes\n",
    "    sub.set_xlabel(xaxis_label, fontsize = 1.6 * font_size)\n",
    "    sub.set_ylabel(yaxis_label, fontsize = 1.6 * font_size)\n",
    "    \n",
    "    return"
   ]
  },
  {
   "cell_type": "code",
   "execution_count": 6,
   "metadata": {
    "collapsed": false
   },
   "outputs": [
    {
     "name": "stdout",
     "output_type": "stream",
     "text": [
      "364 [['9.1', '10'], ['\"3.61', ' 3.65 (updated)\"', '4'], ['3.27', '4']]\n",
      "237 [3.27, 3.966, 3.25]\n"
     ]
    }
   ],
   "source": [
    "with open(\"./gpa_data.csv\", \"r\") as data_file:\n",
    "    all_lines = data_file.readlines()\n",
    "\n",
    "gpa_list = []\n",
    "for line in all_lines[1:]:      # Ignore first line with field names\n",
    "    gpa_list.append( line.strip().split(\",\") )\n",
    "    \n",
    "print(len(gpa_list), gpa_list[:3])\n",
    "    \n",
    "gpa = []\n",
    "for x in gpa_list:\n",
    "    try:\n",
    "        if (float(x[1]) == 4.):  # consider only cases for which maximum GPA is 4.0\n",
    "            try:\n",
    "                gpa.append(float(x[0]))\n",
    "            except:\n",
    "                pass\n",
    "    except:\n",
    "        pass\n",
    "\n",
    "print(len(gpa), gpa[:3])\n"
   ]
  },
  {
   "cell_type": "code",
   "execution_count": 7,
   "metadata": {
    "collapsed": true
   },
   "outputs": [],
   "source": [
    "group1_gpas = []\n",
    "group2_gpas = []\n",
    "for item in gpa:\n",
    "    if choice([1,2]) == 1:\n",
    "        group1_gpas.append(item)\n",
    "    else:\n",
    "        group2_gpas.append(item)\n",
    "        "
   ]
  },
  {
   "cell_type": "markdown",
   "metadata": {},
   "source": [
    "# Synopsis\n",
    "\n",
    "In this unit we will:\n",
    "\n",
    "* Define descriptive and inferential statistics\n",
    "* Demonstrate decriptive and inferential statistics in Python\n",
    "* Cover basic bootstrapping methods for data analysis"
   ]
  },
  {
   "cell_type": "markdown",
   "metadata": {},
   "source": [
    "# Statistics\n",
    "\n",
    "**Statistics is the science concerned with the study of the collection, analysis, interpretation, presentation, and organization of data.**\n",
    "\n",
    "For concreteness let us consider two examples that hopefully you can relate to.\n",
    "\n",
    "The US Census Bureau collects data on people residing in the US. The data includes measures such as the number of household occupants, their gender, their age, their familial relationships, their incomes, their education levels, and so on. The process for the data collection is called a **census** because the process aims to measure all individuals.\n",
    "\n",
    "Colleges collect applications for their programs. The data collected includes standardized test scores, GPAs, essays, recommendation letters, and so on. No college is able to collect a census, so each must make decisions based on the **sample** of applicants. Each college is able to analyze a sample comprising a very small fraction of all students applying to college each year.  "
   ]
  },
  {
   "cell_type": "markdown",
   "metadata": {},
   "source": [
    "### GPAs of applicants to Chemical Engineering Graduate Program\n",
    "\n",
    "In order to explore this type of statistical analysis with Python, we will study the undergraduate GPA of the applicants to the Chemical Engineering Graduate Program in 2014.\n"
   ]
  },
  {
   "cell_type": "markdown",
   "metadata": {},
   "source": [
    "# Descriptive statistics\n",
    "\n",
    "The first step in the analysis of data is to to obtain a description that summarizes its statistical properties. There are a number of statistics (that is, measures that can be calculated for that data) that are particularly useful.\n",
    "\n",
    "**Number of observations** is the number of data in the data set. In this case, the number of applicants for which we have GPA values.\n",
    "\n",
    "**Minimum** is the smallest value in the data set.\n",
    "\n",
    "**Maximum** is the largest value in the data set. For the GPA data, this is presumably 4.0.\n",
    "\n",
    "**Support** (also called range) is the interval over which the values of the data set spread. Since GAPs are positive and must be no larger that 4, we know that the range must be a subset of the interval [0, 4]. Presumably, students will GPAs lower than 2 will not apply to a graduate program, so the support of our GPA data will likely be a subset of the interval [2, 4].\n",
    "\n",
    "**Mode** is the most common value in the data set.  \n",
    "\n",
    "**Median** is the value that is larger than half of all values and smaller than half of all values in the data set. The median is an example of a *percentile*.  Two other common percentiles are the *first quartile* and the *third quartile*.\n",
    "\n",
    "**Sample Mean** (also called sample average) is the sum of all values divided by the number of observations.  The sample mean has the smallest distance to the set of all values in the sample.\n",
    "\n",
    "**Standard deviation** is a measure of the spread around the sample mean for the values in the data set.\n",
    "\n",
    "**Skewness** is a measure of the asymmetry of the values in the data set. If you divide the support of the data at the sample mean, and if one of the interval is longer than the other, than the data is skewed.\n",
    "\n",
    "These quantities can all be easily obtained used methods already coded in `Scipy` and `Numpy`."
   ]
  },
  {
   "cell_type": "code",
   "execution_count": 22,
   "metadata": {
    "collapsed": false
   },
   "outputs": [
    {
     "name": "stdout",
     "output_type": "stream",
     "text": [
      "The mode of the sample is 3.57\n",
      "The first quartile of the sample is 3.47\n",
      "The median of the sample is 3.63\n",
      "The third quartile of the sample is 3.76\n",
      "The skewness of the sample is -1.046\n"
     ]
    }
   ],
   "source": [
    "mode1 = float(stat.mode(group1_gpas)[0])\n",
    "mode2 = float(stat.mode(group2_gpas)[0])\n",
    "print(\"The mode of the sample is {0:4.2f}\".format(mode1))\n",
    "\n",
    "first_quartile1 = stat.scoreatpercentile(group1_gpas, 25)\n",
    "first_quartile2 = stat.scoreatpercentile(group2_gpas, 25)\n",
    "print(\"The first quartile of the sample is {0:4.2f}\".format(first_quartile1))\n",
    "\n",
    "median1 = stat.scoreatpercentile(group1_gpas, 50)\n",
    "median2 = stat.scoreatpercentile(group2_gpas, 50)\n",
    "print(\"The median of the sample is {0:4.2f}\".format(median1))\n",
    "\n",
    "third_quartile1 = stat.scoreatpercentile(group1_gpas, 75)\n",
    "third_quartile2 = stat.scoreatpercentile(group2_gpas, 75)\n",
    "print(\"The third quartile of the sample is {0:4.2f}\".format(third_quartile1))\n",
    "\n",
    "skew1 = stat.skew(group1_gpas)\n",
    "skew2 = stat.skew(group2_gpas)\n",
    "print(\"The skewness of the sample is {0:5.3f}\".format(skew1))"
   ]
  },
  {
   "cell_type": "code",
   "execution_count": 9,
   "metadata": {
    "collapsed": false
   },
   "outputs": [
    {
     "name": "stdout",
     "output_type": "stream",
     "text": [
      "DescribeResult(nobs=121, minmax=(2.5099999999999998, 4.0), mean=3.5950247933884296, variance=0.06948759104683197, skewness=-1.045940741169575, kurtosis=1.6221099565187922)\n",
      "\n",
      "DescribeResult(nobs=116, minmax=(2.5699999999999998, 4.0), mean=3.6237241379310348, variance=0.072028010194902542, skewness=-0.862523489004057, kurtosis=0.8955117004398927)\n"
     ]
    }
   ],
   "source": [
    "results = stat.describe(group1_gpas)\n",
    "print(results)\n",
    "\n",
    "print()\n",
    "\n",
    "results = stat.describe(group2_gpas)\n",
    "print(results)\n"
   ]
  },
  {
   "cell_type": "markdown",
   "metadata": {},
   "source": [
    "### Plot the distribution\n",
    "\n",
    "While descriptive statistics are very useful, their calculation involves the loss of a lot of information on the data. Obtaining an histogram of the data values gives a much more accurate picture of the statistical properties of the data as long as the histogram is calculated properly.\n"
   ]
  },
  {
   "cell_type": "code",
   "execution_count": 26,
   "metadata": {
    "collapsed": false
   },
   "outputs": [
    {
     "data": {
      "image/png": "[encoded data removed]",
      "text/plain": [
       "<matplotlib.figure.Figure at 0x111f5a0b8>"
      ]
     },
     "metadata": {},
     "output_type": "display_data"
    }
   ],
   "source": [
    "fig = plt.figure( figsize = (15.0, 10.0) )\n",
    "my_font_size = 18\n",
    "\n",
    "# Calculate and plot frequency \n",
    "#\n",
    "sub1 = fig.add_subplot(2,2,1)\n",
    "half_frame(sub1, \"\", \"Frequency\", font_size = my_font_size)\n",
    "sub1.hist(group1_gpas, 25, rwidth = 0.75, color = \"g\", alpha = 0.5, histtype = \"bar\", \n",
    "          label = \"data\", cumulative = False)\n",
    "sub1.vlines([first_quartile1, median1, third_quartile1], ymin = 0, ymax = 20, lw = 3, color = \"red\", \n",
    "            label = \"quartiles\")\n",
    "\n",
    "# Format legend\n",
    "sub1.legend(loc = \"best\", frameon = False, markerscale = 1.8, fontsize = my_font_size)\n",
    "\n",
    "# Plot cumulative probability\n",
    "#\n",
    "sub2 = fig.add_subplot(2,2,2)\n",
    "half_frame(sub2, \"\", \"Cumulative probability\", font_size = my_font_size)\n",
    "sub2.hist(group1_gpas, 25, normed = 1, rwidth = 0.75, color = \"g\", alpha = 0.5, histtype = \"bar\", \n",
    "          label = \"data\", cumulative = True)\n",
    "sub2.vlines([first_quartile1, median1, third_quartile1], ymin = 0, ymax = 1., lw = 3, color = \"red\", \n",
    "            label = \"quartiles\")\n",
    "sub2.set_ylim([0, 1])\n",
    "\n",
    "# Calculate and plot frequency\n",
    "#\n",
    "sub3 = fig.add_subplot(2,2,3)\n",
    "half_frame(sub3, \"GPA\", \"Frequency\", font_size = my_font_size)\n",
    "sub3.hist(group2_gpas, 25, rwidth = 0.75, color = \"g\", alpha = 0.5, histtype = \"bar\", \n",
    "          label = \"data\", cumulative = False)\n",
    "sub3.vlines([first_quartile2, median2, third_quartile2], ymin = 0, ymax = 20, lw = 3, color = \"red\", \n",
    "            label = \"quartiles\")\n",
    "\n",
    "# Format legend\n",
    "sub1.legend(loc = \"best\", frameon = False, markerscale = 1.8, fontsize = my_font_size)\n",
    "\n",
    "# Plot cumulative probability\n",
    "#\n",
    "sub4 = fig.add_subplot(2,2,4)\n",
    "half_frame(sub4, \"GPA\", \"Cumulative probability\", font_size = my_font_size)\n",
    "sub4.hist(group2_gpas, 25, normed = 1, rwidth = 0.75, color = \"g\", alpha = 0.5, histtype = \"bar\", \n",
    "          label = \"data\", cumulative = True)\n",
    "sub4.vlines([first_quartile2, median2, third_quartile2], ymin = 0, ymax = 1., lw = 3, color = \"red\", \n",
    "            label = \"quartiles\")\n",
    "\n",
    "plt.tight_layout()\n"
   ]
  },
  {
   "cell_type": "markdown",
   "metadata": {},
   "source": [
    "The question we may want to answer with our data is whether Group1 and Group2 have similar distributions of GPAs. Looking at the frequency plot, one could be tempted to say maybe... The cumulative probability plot, however, suggest that probably not.  How do we decide?  \n",
    "\n",
    "\n",
    "# Inferential statistics\n",
    "\n",
    "The goal of descriptive statistics is to gain sufficient insight into our data to enable us to develop hypotheses about what process generated the data or whether different samples were drawn from the same distribution. **These hypotheses are called null models**.\n",
    "\n",
    "The process can be a physical model, which may or may not predict the value of the parameters necessary to describe the statistical properties of the data. The process can also be a statistical model.\n",
    "\n",
    "Using inferential statistics, one determines whether a given null hypothesis is consistent with the data. Let's test the null hypothesis using a few standard methods."
   ]
  },
  {
   "cell_type": "markdown",
   "metadata": {},
   "source": [
    "### Student's t-test\n",
    "\n",
    "Among the most frequently used t-tests are:\n",
    "\n",
    "* A one-sample location test of whether the mean of a population has a value specified in a null hypothesis.\n",
    "    \n",
    "* A two-sample location test of the null hypothesis such that the means of two populations are equal. All such tests are usually called Student's t-tests, though strictly speaking that name should only be used if the variances of the two populations are also assumed to be equal; the form of the test used when this assumption is dropped is sometimes called Welch's t-test.[8] These tests are often referred to as \"unpaired\" or \"independent samples\" t-tests, as they are typically applied when the statistical units underlying the two samples being compared are non-overlapping.\n",
    "    \n",
    "* A test of the null hypothesis that the difference between two responses measured on the same statistical unit has a mean value of zero. For example, suppose we measure the size of a cancer patient's tumor before and after a treatment. If the treatment is effective, we expect the tumor size for many of the patients to be smaller following the treatment. This is often referred to as the \"paired\" or \"repeated measures\" t-test.\n",
    "    \n",
    "* A test of whether the slope of a regression line differs significantly from 0.\n",
    "\n",
    "The t-test assumes that:\n",
    "\n",
    "* The sample means follow a normal distribution.\n",
    "* ps^2 follows a χ2 distribution with p degrees of freedom under the null hypothesis, where p is a positive constant, and s is the ratio of sample standard deviation over population standard deviation.\n",
    "* Z and s are independent.\n"
   ]
  },
  {
   "cell_type": "code",
   "execution_count": 27,
   "metadata": {
    "collapsed": false
   },
   "outputs": [
    {
     "name": "stdout",
     "output_type": "stream",
     "text": [
      "t test: \t t =  -0.8301  \t p = 0.4073\n"
     ]
    }
   ],
   "source": [
    "# Using t-test\n",
    "\n",
    "t, p = stat.ttest_ind(group1_gpas, group2_gpas, equal_var = False)\n",
    "print('t test: \\t t =  {0:6.4f}  \\t p = {1:6.4f}'.format(t, p) )"
   ]
  },
  {
   "cell_type": "markdown",
   "metadata": {},
   "source": [
    "### Kolmogorov–Smirnov test\n",
    "\n",
    "The Kolmogorov–Smirnov test (K–S test or KS test) is a nonparametric test of the equality of continuous, one-dimensional probability distributions that can be used to compare a sample with a reference probability distribution (one-sample K–S test), or to compare two samples (two-sample K–S test). \n",
    "\n",
    "The Kolmogorov–Smirnov statistic quantifies a distance between the empirical distribution function of the sample and the cumulative distribution function of the reference distribution, or between the empirical distribution functions of two samples. The null distribution of this statistic is calculated under the null hypothesis that the sample is drawn from the reference distribution (in the one-sample case) or that the samples are drawn from the same distribution (in the two-sample case). In each case, the distributions considered under the null hypothesis are continuous distributions but are otherwise unrestricted."
   ]
  },
  {
   "cell_type": "code",
   "execution_count": 28,
   "metadata": {
    "collapsed": false
   },
   "outputs": [
    {
     "name": "stdout",
     "output_type": "stream",
     "text": [
      "KS 2 sample test: \t  D =  0.1569  \t p = 0.0978\n"
     ]
    }
   ],
   "source": [
    "# Using Kolmogorov-Smirnov test\n",
    "\n",
    "D, p = stat.ks_2samp(group1_gpas, group2_gpas)\n",
    "print('KS 2 sample test: \\t  D =  {0:6.4f}  \\t p = {1:6.4f}'.format(D, p) )"
   ]
  },
  {
   "cell_type": "markdown",
   "metadata": {},
   "source": [
    "### $\\chi^2$ test\n",
    "\n",
    "The $\\chi^2$ test is used to determine whether there is a significant difference between the expected frequencies and the observed frequencies in one or more categories.\n",
    "\n",
    "$\\chi^2$ tests are often constructed from a **sum of squared errors**, or through the **sample variance**. Test statistics that follow a $\\chi^2$ distribution arise from an assumption of independent normally distributed data, which is valid in many cases due to the central limit theorem.  Also considered a $\\chi^2$ test is a test in which this is asymptotically true, meaning that the sampling distribution (if the null hypothesis is true) can be made to approximate a chi-squared distribution as closely as desired by making the sample size large enough.\n",
    "\n",
    "A $\\chi^2$ test can be used to attempt rejection of the null hypothesis that the data are independent.\n",
    "\n",
    "The $\\chi^2$ test requires three conditions to be satisfied: 1) the data is obtained by simple random sampling, 2) the data is categorical, and 3) the expected number of observations for every category is at least 5.\n"
   ]
  },
  {
   "cell_type": "code",
   "execution_count": null,
   "metadata": {
    "collapsed": true
   },
   "outputs": [],
   "source": []
  }
 ],
 "metadata": {
  "anaconda-cloud": {},
  "kernelspec": {
   "display_name": "Python [Root]",
   "language": "python",
   "name": "Python [Root]"
  },
  "language_info": {
   "codemirror_mode": {
    "name": "ipython",
    "version": 3
   },
   "file_extension": ".py",
   "mimetype": "text/x-python",
   "name": "python",
   "nbconvert_exporter": "python",
   "pygments_lexer": "ipython3",
   "version": "3.5.1"
  }
 },
 "nbformat": 4,
 "nbformat_minor": 0
}
